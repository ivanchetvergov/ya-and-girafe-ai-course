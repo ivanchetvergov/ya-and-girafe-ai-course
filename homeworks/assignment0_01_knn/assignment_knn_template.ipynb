{
 "cells": [
  {
   "cell_type": "markdown",
   "metadata": {},
   "source": [
    "Before you turn this problem in, make sure everything runs as expected. First, **restart the kernel** (in the menubar, select Kernel$\\rightarrow$Restart) and then **run all cells** (in the menubar, select Cell$\\rightarrow$Run All).\n",
    "\n",
    "Make sure you fill in any place that says `YOUR CODE HERE` or \"YOUR ANSWER HERE\", as well as your name and collaborators below:"
   ]
  },
  {
   "cell_type": "code",
   "execution_count": 12,
   "metadata": {},
   "outputs": [],
   "source": [
    "NAME = \"\"\n",
    "COLLABORATORS = \"\""
   ]
  },
  {
   "cell_type": "markdown",
   "metadata": {},
   "source": [
    "---"
   ]
  },
  {
   "cell_type": "code",
   "execution_count": 13,
   "metadata": {},
   "outputs": [],
   "source": [
    "import sys\n",
    "\n",
    "import numpy as np\n",
    "import unittest\n",
    "import time\n",
    "\n",
    "import collections\n",
    "import pickle\n",
    "import io"
   ]
  },
  {
   "cell_type": "code",
   "execution_count": 14,
   "metadata": {
    "deletable": false,
    "nbgrader": {
     "cell_type": "code",
     "checksum": "baa24c5c2ac3ca5b9e9b31d1fa11180f",
     "grade": false,
     "grade_id": "cell-ac8fc52d8a39ccb4",
     "locked": false,
     "schema_version": 3,
     "solution": true,
     "task": false
    }
   },
   "outputs": [],
   "source": [
    "class KNearestNeighbor:\n",
    "    \"\"\" a kNN classifier with L2 distance \"\"\"\n",
    "    def __init__(self):\n",
    "        pass\n",
    "\n",
    "    def fit(self, X, y):\n",
    "        self.X_train = X\n",
    "        self.y_train = y\n",
    "\n",
    "    def predict(self, X, k=1, num_loops=0):\n",
    "        if num_loops == 0:\n",
    "            dists = self.compute_distances_no_loops(X)\n",
    "        elif num_loops == 1:\n",
    "            dists = self.compute_distances_one_loop(X)\n",
    "        elif num_loops == 2:\n",
    "            dists = self.compute_distances_two_loops(X)\n",
    "        else:\n",
    "            raise ValueError('Invalid value %d for num_loops' % num_loops)\n",
    "\n",
    "        return self.predict_labels(dists, k=k)\n",
    "\n",
    "    def compute_distances_two_loops(self, X):\n",
    "        num_test = X.shape[0]\n",
    "        num_train = self.X_train.shape[0]\n",
    "        dists = np.zeros((num_test, num_train))\n",
    "                \n",
    "        for i in range(num_test):\n",
    "            for j in range(num_train):\n",
    "                # 1. вычисляем разницу между векторами (D-размерности)\n",
    "                diff = X[i, :] - self.X_train[j, :]\n",
    "                \n",
    "                # 2. вычисляем квадрат L2 расстояния \n",
    "                squared_distance = np.sum(diff**2)\n",
    "                \n",
    "                # 3. берем квадратный корень (L2)\n",
    "                dists[i, j] = np.sqrt(squared_distance)                             \n",
    "        return dists\n",
    "\n",
    "    def compute_distances_one_loop(self, X):\n",
    "\n",
    "        num_test = X.shape[0]\n",
    "        num_train = self.X_train.shape[0]\n",
    "        dists = np.zeros((num_test, num_train))\n",
    "        for i in range(num_test):            \n",
    "            # 1 --- выбираем тестовую строку (1, D)\n",
    "            test_point = X[i, :]\n",
    "            \n",
    "            # 2 --- вычисляем разницу\n",
    "            diff = self.X_train - test_point\n",
    "            sq_diff = np.sum(diff**2, axis=1)\n",
    "            \n",
    "            # 3 --- записываем\n",
    "            dists[i, :] = np.sqrt(sq_diff)\n",
    "\n",
    "        return dists\n",
    "\n",
    "    def compute_distances_no_loops(self, X):\n",
    "        num_test = X.shape[0]\n",
    "        num_train = self.X_train.shape[0]\n",
    "        dists = np.zeros((num_test, num_train))\n",
    "                \n",
    "        # 1 --- вычисляем квадрат L2 нормы для каждой точки \n",
    "        sum_sq_test = np.sum(X**2, axis=1, keepdims=True)\n",
    "        sum_sq_train = np.sum(self.X_train ** 2, axis=1, keepdims=True)\n",
    "        \n",
    "        # 2 --- вычисляем -2 * скаляр произ (-2 * A^T B)\n",
    "        dot_product = -2 * np.dot(X, self.X_train.T)                \n",
    "                \n",
    "        # 3 --- считаем расстояние\n",
    "        dists = sum_sq_test + sum_sq_train - dot_product  \n",
    "        \n",
    "        return dists\n",
    "\n",
    "    def predict_labels(self, dists, k=1):\n",
    "        num_test = dists.shape[0]\n",
    "        y_pred = np.zeros(num_test)\n",
    "        for i in range(num_test):\n",
    "\n",
    "            \n",
    "            # 1 --- находим индексы k ближайших соседей для i-й тестовой точки.\n",
    "            closest_indices = np.argsort(dists[i, :])[:k]\n",
    "            \n",
    "            # 2 --- используем self.y_train для получения меток по найденным индексам.\n",
    "            closest_y = self.y_train[closest_indices] \n",
    "\n",
    "            from collections import Counter\n",
    "            \n",
    "            # 3 --- подсчет частоты меток\n",
    "            vote_counts = Counter(closest_y)\n",
    "            \n",
    "            # 4 --- получаем метки с максимальным голосом (может быть несколько при ничьей)\n",
    "            max_count = vote_counts.most_common(1)[0][1]\n",
    "            winning_labels = [label for label, count in vote_counts.items() if count == max_count]\n",
    "            \n",
    "            # 5 --- азрешение ничьей: выбираем меньшую метку\n",
    "            y_pred[i] = min(winning_labels) \n",
    "\n",
    "\n",
    "        return y_pred\n"
   ]
  },
  {
   "cell_type": "markdown",
   "metadata": {},
   "source": [
    "### Test 1: Two loops (0.05 points)"
   ]
  },
  {
   "cell_type": "code",
   "execution_count": 15,
   "metadata": {
    "deletable": false,
    "editable": false,
    "nbgrader": {
     "cell_type": "code",
     "checksum": "619e9b5d70e922be94dbbbd19f6c476a",
     "grade": true,
     "grade_id": "cell-3473b7b6ffd64d07",
     "locked": true,
     "points": 0.01,
     "schema_version": 3,
     "solution": false,
     "task": false
    }
   },
   "outputs": [],
   "source": [
    "# do not change this cell\n",
    "knn_test = KNearestNeighbor()\n",
    "\n"
   ]
  },
  {
   "cell_type": "code",
   "execution_count": 16,
   "metadata": {
    "deletable": false,
    "editable": false,
    "nbgrader": {
     "cell_type": "code",
     "checksum": "1b2871144b96775b2de0554eba118e22",
     "grade": true,
     "grade_id": "cell-e3503c286039ec55",
     "locked": true,
     "points": 0.05,
     "schema_version": 3,
     "solution": false,
     "task": false
    }
   },
   "outputs": [
    {
     "ename": "NameError",
     "evalue": "name 'X_train' is not defined",
     "output_type": "error",
     "traceback": [
      "\u001b[31m---------------------------------------------------------------------------\u001b[39m",
      "\u001b[31mNameError\u001b[39m                                 Traceback (most recent call last)",
      "\u001b[36mCell\u001b[39m\u001b[36m \u001b[39m\u001b[32mIn[16]\u001b[39m\u001b[32m, line 10\u001b[39m\n\u001b[32m      7\u001b[39m     toc = time.time()\n\u001b[32m      8\u001b[39m     \u001b[38;5;28;01mreturn\u001b[39;00m toc - tic, output\n\u001b[32m---> \u001b[39m\u001b[32m10\u001b[39m knn_test.fit(\u001b[43mX_train\u001b[49m, y_train)\n\u001b[32m     12\u001b[39m np.random.seed(\u001b[32m42\u001b[39m)\n\u001b[32m     13\u001b[39m two_loop_time, out_2_loops = time_function(knn_test.compute_distances_two_loops, X_test)\n",
      "\u001b[31mNameError\u001b[39m: name 'X_train' is not defined"
     ]
    }
   ],
   "source": [
    "def time_function(f, *args):\n",
    "    \"\"\"\n",
    "    Call a function f with args and return the time (in seconds) that it took to execute.\n",
    "    \"\"\"\n",
    "    tic = time.time()\n",
    "    output = f(*args)\n",
    "    toc = time.time()\n",
    "    return toc - tic, output\n",
    "\n",
    "knn_test.fit(X_train, y_train)\n",
    "\n",
    "np.random.seed(42)\n",
    "two_loop_time, out_2_loops = time_function(knn_test.compute_distances_two_loops, X_test)\n",
    "assert np.allclose(real_distances, out_2_loops, atol=1e-6)"
   ]
  },
  {
   "cell_type": "markdown",
   "metadata": {},
   "source": [
    "### Test 2: One loop (0.1 points)"
   ]
  },
  {
   "cell_type": "code",
   "execution_count": null,
   "metadata": {
    "deletable": false,
    "editable": false,
    "nbgrader": {
     "cell_type": "code",
     "checksum": "d621208d290300a5ff56d25d332cc154",
     "grade": true,
     "grade_id": "cell-e2c4124a6f815118",
     "locked": true,
     "points": 0.1,
     "schema_version": 3,
     "solution": false,
     "task": false
    }
   },
   "outputs": [],
   "source": [
    "np.random.seed(42)\n",
    "one_loop_time, out_1_loops = time_function(knn_test.compute_distances_one_loop, X_test)\n",
    "assert np.allclose(real_distances, out_1_loops, atol=1e-6)"
   ]
  },
  {
   "cell_type": "markdown",
   "metadata": {},
   "source": [
    "### Test 3: No loops (0.4 points)"
   ]
  },
  {
   "cell_type": "code",
   "execution_count": null,
   "metadata": {
    "deletable": false,
    "editable": false,
    "nbgrader": {
     "cell_type": "code",
     "checksum": "542d4ceafc29e8fe7e4d274ebfe83c37",
     "grade": true,
     "grade_id": "cell-69473387a23d8dff",
     "locked": true,
     "points": 0.4,
     "schema_version": 3,
     "solution": false,
     "task": false
    }
   },
   "outputs": [],
   "source": [
    "np.random.seed(42)\n",
    "no_loop_time, out_no_loops = time_function(knn_test.compute_distances_no_loops, X_test)\n",
    "assert np.allclose(real_distances, out_no_loops, atol=1e-6)\n"
   ]
  },
  {
   "cell_type": "markdown",
   "metadata": {},
   "source": [
    "### Test 4: No loops timing (0.15 points)"
   ]
  },
  {
   "cell_type": "code",
   "execution_count": null,
   "metadata": {
    "deletable": false,
    "editable": false,
    "nbgrader": {
     "cell_type": "code",
     "checksum": "8159977d0a54c4e2d67154f37daac53e",
     "grade": true,
     "grade_id": "cell-3460671ba79fd04a",
     "locked": true,
     "points": 0.15,
     "schema_version": 3,
     "solution": false,
     "task": false
    }
   },
   "outputs": [],
   "source": [
    "np.random.seed(42)\n",
    "two_loop_time, out_2_loops = time_function(knn_test.compute_distances_two_loops, X_test)\n",
    "no_loop_time, out_no_loops = time_function(knn_test.compute_distances_no_loops, X_test)\n",
    "assert np.log(two_loop_time) - np.log(no_loop_time) > np.log(50)"
   ]
  },
  {
   "cell_type": "markdown",
   "metadata": {},
   "source": [
    "### Test 5: Labels prediction (0.3 points)"
   ]
  },
  {
   "cell_type": "code",
   "execution_count": null,
   "metadata": {
    "deletable": false,
    "editable": false,
    "nbgrader": {
     "cell_type": "code",
     "checksum": "a41fa05d580ba2ef1951f263c61a857b",
     "grade": true,
     "grade_id": "cell-5d56bb4222ee1e7c",
     "locked": true,
     "points": 0.3,
     "schema_version": 3,
     "solution": false,
     "task": false
    }
   },
   "outputs": [],
   "source": [
    "np.random.seed(42)\n",
    "for k in [1, 3, 5, 7, 9]:\n",
    "    predicted_labels = knn_test.predict(X_test, k=k)\n",
    "    predicted_labels = np.array(predicted_labels, dtype=int).squeeze()\n",
    "    real_labels = np.array(y_ref_predictions[k], dtype=int).squeeze()\n",
    "    assert np.array_equal(predicted_labels, real_labels), 'Wrong answer for k={}'.format(k)"
   ]
  }
 ],
 "metadata": {
  "kernelspec": {
   "display_name": ".venv (3.13.5)",
   "language": "python",
   "name": "python3"
  },
  "language_info": {
   "codemirror_mode": {
    "name": "ipython",
    "version": 3
   },
   "file_extension": ".py",
   "mimetype": "text/x-python",
   "name": "python",
   "nbconvert_exporter": "python",
   "pygments_lexer": "ipython3",
   "version": "3.13.5"
  }
 },
 "nbformat": 4,
 "nbformat_minor": 4
}
